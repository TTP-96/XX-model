{
 "cells": [
  {
   "cell_type": "code",
   "execution_count": 33,
   "id": "c1c6da7f-8efb-4cb2-918e-163b20667653",
   "metadata": {},
   "outputs": [],
   "source": [
    "import netket as nk\n",
    "import numpy as np\n",
    "import matplotlib.pyplot as plt\n",
    "%matplotlib inline"
   ]
  },
  {
   "cell_type": "code",
   "execution_count": 34,
   "id": "f4ccfd96-3f72-4815-a96e-d9f6aa7f4f5d",
   "metadata": {},
   "outputs": [],
   "source": [
    "Lx, Ly = 2,2          # number of honeycomb unit cells (total spins = 2*Lx*Ly)\n",
    "J = 1.0\n",
    "seed=1234"
   ]
  },
  {
   "cell_type": "code",
   "execution_count": 35,
   "id": "9cdc8f4c-19ef-48e5-af0a-17be05f4ffd4",
   "metadata": {},
   "outputs": [
    {
     "name": "stdout",
     "output_type": "stream",
     "text": [
      "LocalOperator(dim=8, #acting_on=12 locations, constant=0.0, dtype=float64)\n"
     ]
    }
   ],
   "source": [
    "# Graph: Honeycomb with PBCs\n",
    "g = nk.graph.Honeycomb(extent=(Lx, Ly), pbc=True)\n",
    "hi = nk.hilbert.Spin(s=0.5, N=g.n_nodes,total_sz=0.0)\n",
    "H = nk.operator.LocalOperator(hi)\n",
    "for i, j in g.edges():  # nearest neighbors\n",
    "        Sp_i = nk.operator.spin.sigmap(hi, i)\n",
    "        Sm_i = nk.operator.spin.sigmam(hi, i)\n",
    "        Sp_j = nk.operator.spin.sigmap(hi, j)\n",
    "        Sm_j = nk.operator.spin.sigmam(hi, j)\n",
    "        H += -(J/2.0) * (Sp_i @ Sm_j + Sm_i @ Sp_j)\n",
    "print(H)"
   ]
  },
  {
   "cell_type": "code",
   "execution_count": 36,
   "id": "86985673-751b-40b9-ad9f-46bd5adcf6b7",
   "metadata": {},
   "outputs": [
    {
     "name": "stdout",
     "output_type": "stream",
     "text": [
      "Lowest eigenvalues: [-3.63027662 -2.13577921 -2.13577921 -2.13577921]\n"
     ]
    }
   ],
   "source": [
    "import scipy.sparse.linalg as sla\n",
    "mat = H.to_sparse()  # sparse matrix in computational basis\n",
    "evals = sla.eigsh(mat, k=4, which=\"SA\", return_eigenvectors=False)\n",
    "evals=np.sort(evals)\n",
    "print(\"Lowest eigenvalues:\", evals)\n",
    "E_gs=evals[0]  # ground state energy from ED\n"
   ]
  },
  {
   "cell_type": "code",
   "execution_count": 37,
   "id": "bff53e22-a120-424b-94eb-0346e42832be",
   "metadata": {},
   "outputs": [
    {
     "data": {
      "application/vnd.jupyter.widget-view+json": {
       "model_id": "e70a284359cb4edcb9cb429bc5aae823",
       "version_major": 2,
       "version_minor": 0
      },
      "text/plain": [
       "  0%|                                                   | 0/100 [00:00<?, ?it/s]"
      ]
     },
     "metadata": {},
     "output_type": "display_data"
    },
    {
     "name": "stdout",
     "output_type": "stream",
     "text": [
      "\n",
      "=== Results ===\n",
      "Energy density  E/N = -0.45327415  ± 2.24e-04\n",
      "<S^z_tot>      = 0.000000  ± nan\n"
     ]
    },
    {
     "data": {
      "image/png": "[encoded data removed]",
      "text/plain": [
       "<Figure size 640x480 with 1 Axes>"
      ]
     },
     "metadata": {},
     "output_type": "display_data"
    }
   ],
   "source": [
    "model = nk.models.RBM(alpha=2)\n",
    "sampler = nk.sampler.MetropolisExchange(hilbert=hi, graph=g, n_chains=16)\n",
    "\n",
    "vs = nk.vqs.MCState(\n",
    "    sampler,\n",
    "    model=model,\n",
    "    n_samples=4096,             # total samples per iteration\n",
    "    n_discard_per_chain=32,     # thermalization per chain\n",
    "    seed=seed,\n",
    ")\n",
    "\n",
    "opt = nk.optimizer.Sgd(learning_rate=0.1)\n",
    "sr = nk.optimizer.SR(diag_shift=0.1)   # stochastic reconfiguration\n",
    "log = nk.logging.RuntimeLog()\n",
    "\n",
    "driver = nk.VMC(hamiltonian=H, optimizer=opt, variational_state=vs, preconditioner=sr)\n",
    "niters=100\n",
    "driver.run(n_iter=niters, out=log)\n",
    "from netket.operator.spin import sigmaz\n",
    "Sz_tot = sum(0.5 * sigmaz(hi, i) for i in range(hi.size))\n",
    "\n",
    "E = vs.expect(H)\n",
    "Sz_val = vs.expect(Sz_tot)\n",
    "\n",
    "\n",
    "print(\"\\n=== Results ===\")\n",
    "print(f\"Energy density  E/N = {E.mean.real/hi.size:.8f}  ± {E.error_of_mean/hi.size:.2e}\")\n",
    "print(f\"<S^z_tot>      = {Sz_val.mean.real:.6f}  ± {Sz_val.error_of_mean:.2e}\")\n",
    "\n",
    "data_RBM = log.data\n",
    "#print(data_RBM)\n",
    "\n",
    "\n",
    "plt.errorbar(\n",
    "    data_RBM[\"Energy\"].iters,\n",
    "    data_RBM[\"Energy\"].Mean,\n",
    "    yerr=data_RBM[\"Energy\"].Sigma,\n",
    "    label=\"E RBM\",\n",
    ")\n",
    "plt.hlines([E_gs], xmin=0, xmax=niters, color=\"black\", label=\"E Exact\")\n",
    "plt.legend()\n",
    "\n",
    "plt.xlabel(\"Iterations\")\n",
    "plt.ylabel(\"Energy\")\n",
    "plt.show()\n"
   ]
  },
  {
   "cell_type": "code",
   "execution_count": null,
   "id": "609c94c0-cf58-4050-be9f-b2d3db0ec014",
   "metadata": {},
   "outputs": [],
   "source": []
  }
 ],
 "metadata": {
  "kernelspec": {
   "display_name": "Python 3 (ipykernel)",
   "language": "python",
   "name": "python3"
  },
  "language_info": {
   "codemirror_mode": {
    "name": "ipython",
    "version": 3
   },
   "file_extension": ".py",
   "mimetype": "text/x-python",
   "name": "python",
   "nbconvert_exporter": "python",
   "pygments_lexer": "ipython3",
   "version": "3.10.12"
  }
 },
 "nbformat": 4,
 "nbformat_minor": 5
}
